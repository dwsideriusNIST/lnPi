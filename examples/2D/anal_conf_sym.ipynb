{
 "cells": [
  {
   "cell_type": "code",
   "execution_count": 1,
   "metadata": {},
   "outputs": [
    {
     "data": {
      "text/html": [
       "<style>.container { width:98% !important; }</style>"
      ],
      "text/plain": [
       "<IPython.core.display.HTML object>"
      ]
     },
     "execution_count": 1,
     "metadata": {},
     "output_type": "execute_result"
    }
   ],
   "source": [
    "from IPython.core.display import HTML\n",
    "HTML(\"<style>.container { width:98% !important; }</style>\")"
   ]
  },
  {
   "cell_type": "code",
   "execution_count": 2,
   "metadata": {},
   "outputs": [],
   "source": [
    "%matplotlib inline"
   ]
  },
  {
   "cell_type": "code",
   "execution_count": 3,
   "metadata": {},
   "outputs": [
    {
     "data": {
      "text/plain": [
       "<module 'lnPi' from '/home/local/NIST/dsideriu/Tutorials/lnPi/lnPi/__init__.py'>"
      ]
     },
     "execution_count": 3,
     "metadata": {},
     "output_type": "execute_result"
    }
   ],
   "source": [
    "import pandas as pd\n",
    "import matplotlib.pyplot as plt\n",
    "import numpy as np\n",
    "from importlib import reload\n",
    "\n",
    "import lnPi\n",
    "reload(lnPi)"
   ]
  },
  {
   "cell_type": "code",
   "execution_count": 4,
   "metadata": {},
   "outputs": [],
   "source": [
    "lnpi_ref = lnPi.lnPi_phases.from_file('./nahs_mix.11_11_03.lnpi_o.dat',mu=[0.5,0.5],fill_value=np.nan,ZeroMax=True,num_phases_max=2,beta=1.0,\n",
    "                                     build_kwargs=dict(num_phases_max=5),\n",
    "                                      ftag_phases=lnPi.tag_phases_binary) "
   ]
  },
  {
   "cell_type": "code",
   "execution_count": 5,
   "metadata": {},
   "outputs": [],
   "source": [
    "def get_spin_bin(ref,mu_in,x,spin_kwargs=None,bin_kwargs=None):\n",
    "    \n",
    "    if spin_kwargs is None: spin_kwargs={}\n",
    "    if bin_kwargs is None: bin_kwargs = {}\n",
    "    \n",
    "    #initial estimate\n",
    "    C = lnPi.lnPi_collection.from_mu(ref,mu_in,x)\n",
    "    \n",
    "    C.get_spinodals(**spin_kwargs)\n",
    "    C.get_binodals(**bin_kwargs)\n",
    "    \n",
    "    return C\n",
    "            "
   ]
  },
  {
   "cell_type": "code",
   "execution_count": 6,
   "metadata": {},
   "outputs": [],
   "source": [
    "import tqdm"
   ]
  },
  {
   "cell_type": "code",
   "execution_count": 7,
   "metadata": {},
   "outputs": [
    {
     "name": "stderr",
     "output_type": "stream",
     "text": [
      "  5%|▌         | 2/40 [00:00<00:16,  2.33it/s]/home/local/NIST/dsideriu/Tutorials/lnPi/lnPi/__init__.py:1506: RuntimeWarning: All-NaN slice encountered\n",
      "  new_row = np.nanmin(Etrans[[idx_kill, idx_keep], :], axis=0)\n",
      " 88%|████████▊ | 35/40 [00:25<00:03,  1.28it/s]/home/local/NIST/dsideriu/anaconda3/lib/python3.6/site-packages/numpy/ma/core.py:1019: RuntimeWarning: overflow encountered in multiply\n",
      "  result = self.f(da, db, *args, **kwargs)\n",
      "100%|██████████| 40/40 [00:29<00:00,  1.43it/s]\n"
     ]
    }
   ],
   "source": [
    "L=[]\n",
    "for mu2 in tqdm.tqdm(np.arange(-4,4,0.2),leave=True):\n",
    "    try:\n",
    "        C = get_spin_bin(lnpi_ref,[None,mu2],np.linspace(-10.,10.,2),spin_kwargs=dict(nmax=40,ntry=40))\n",
    "    except:\n",
    "        print('error at mu2',mu2)\n",
    "        break\n",
    "    L.append(C)"
   ]
  },
  {
   "cell_type": "code",
   "execution_count": 8,
   "metadata": {},
   "outputs": [],
   "source": [
    "LL = L"
   ]
  },
  {
   "cell_type": "markdown",
   "metadata": {},
   "source": [
    "# write to h5"
   ]
  },
  {
   "cell_type": "code",
   "execution_count": 9,
   "metadata": {},
   "outputs": [],
   "source": [
    "import h5py\n",
    "fname = 'conf_sym.h5'\n",
    "!rm $fname\n",
    "F = h5py.File(fname)\n",
    "\n",
    "lnpi_ref.to_hdf(F,'lnpi_ref',overwrite=True)\n",
    "collection_list = []\n",
    "for i,x in enumerate(LL):\n",
    "    key = 'collection_%i'%i\n",
    "    collection_list.append(key)\n",
    "    x.to_hdf(F,'collection_%i'%i,ref=None,overwrite=True)\n",
    "\n",
    "F.create_dataset('collection_list',data=np.array(collection_list,dtype='S'))\n",
    "\n",
    "F.close()"
   ]
  },
  {
   "cell_type": "code",
   "execution_count": 10,
   "metadata": {},
   "outputs": [
    {
     "name": "stdout",
     "output_type": "stream",
     "text": [
      "-rw-r--r-- 1 dsideriu domain^users 15M Apr 11 11:58 conf_sym.h5\r\n"
     ]
    }
   ],
   "source": [
    "!ls -lh $fname"
   ]
  },
  {
   "cell_type": "markdown",
   "metadata": {},
   "source": [
    "# read h5"
   ]
  },
  {
   "cell_type": "code",
   "execution_count": 11,
   "metadata": {},
   "outputs": [],
   "source": [
    "#load file to lst\n",
    "fname = 'conf_sym.h5'\n",
    "with h5py.File(fname,'r') as f:\n",
    "    ref = lnPi.lnPi_phases.from_hdf(f,'lnpi_ref')\n",
    "    lst = []\n",
    "    for k in f['collection_list']:\n",
    "        lst.append(lnPi.lnPi_collection.from_hdf(f,k,ref=ref))\n",
    "\n",
    "    f.close()"
   ]
  },
  {
   "cell_type": "code",
   "execution_count": 12,
   "metadata": {},
   "outputs": [],
   "source": [
    "l = []\n",
    "for x in lst:\n",
    "    \n",
    "    d = {}\n",
    "\n",
    "    spin = x.spinodals\n",
    "    if spin[0] is None:\n",
    "        #no spin\n",
    "        pass \n",
    "    else:\n",
    "        #spin\n",
    "        for i,pp in enumerate(spin):\n",
    "            p = pp.merge_phases(efac=0.8)\n",
    "            for j in range(2):\n",
    "                d['mu_spin_%i_comp_%i'%(i,j)] = p.mu[j]\n",
    "                \n",
    "            d['omega_spin_%i'%(i)] = p.Omegas_phaseIDs()[i]\n",
    "                \n",
    "            d['molfrac_spin_%i_comp_0'%i] = p.molfracs_phaseIDs[i,0]\n",
    "            \n",
    "        \n",
    "    bino = x.binodals[0]\n",
    "    if bino is None:\n",
    "        pass\n",
    "    else:\n",
    "        #no bin\n",
    "        p = bino.merge_phases(efac=0.8)\n",
    "\n",
    "        for i in range(2):\n",
    "            for j in range(2):\n",
    "                d['mu_bin_%i_comp_%i'%(i,j)] = p.mu[j]\n",
    "\n",
    "            d['omega_bin_%i'%(i)] = p.Omegas_phaseIDs()[i]\n",
    "            d['molfrac_bin_%i_comp_0'%i] = p.molfracs_phaseIDs[i,0]\n",
    "    l.append(d)\n",
    "    \n",
    "df = pd.DataFrame(l)"
   ]
  },
  {
   "cell_type": "code",
   "execution_count": 13,
   "metadata": {},
   "outputs": [],
   "source": [
    "df.to_hdf('conf_sym.h5','df')"
   ]
  },
  {
   "cell_type": "code",
   "execution_count": 14,
   "metadata": {},
   "outputs": [],
   "source": [
    "df = pd.read_hdf('conf_sym.h5','df')"
   ]
  },
  {
   "cell_type": "code",
   "execution_count": 15,
   "metadata": {},
   "outputs": [
    {
     "data": {
      "text/plain": [
       "[<matplotlib.lines.Line2D at 0x7fa5580ce518>]"
      ]
     },
     "execution_count": 15,
     "metadata": {},
     "output_type": "execute_result"
    },
    {
     "data": {
      "image/png": "[encoded data removed]",
      "text/plain": [
       "<Figure size 432x288 with 1 Axes>"
      ]
     },
     "metadata": {
      "needs_background": "light"
     },
     "output_type": "display_data"
    }
   ],
   "source": [
    "plt.plot(df.mu_bin_0_comp_0,df.mu_bin_0_comp_1)\n",
    "plt.plot(df.mu_spin_0_comp_0,df.mu_spin_0_comp_1,'--')\n",
    "plt.plot(df.mu_spin_1_comp_0,df.mu_spin_1_comp_1,'.')"
   ]
  },
  {
   "cell_type": "code",
   "execution_count": 16,
   "metadata": {},
   "outputs": [
    {
     "data": {
      "text/plain": [
       "[<matplotlib.lines.Line2D at 0x7fa55805c1d0>]"
      ]
     },
     "execution_count": 16,
     "metadata": {},
     "output_type": "execute_result"
    },
    {
     "data": {
      "image/png": "[encoded data removed]",
      "text/plain": [
       "<Figure size 432x288 with 1 Axes>"
      ]
     },
     "metadata": {
      "needs_background": "light"
     },
     "output_type": "display_data"
    }
   ],
   "source": [
    "plt.plot(df.mu_bin_0_comp_1,df.molfrac_bin_0_comp_0)\n",
    "plt.plot(df.mu_bin_1_comp_1,df.molfrac_bin_1_comp_0)\n",
    "\n",
    "plt.plot(df.mu_spin_0_comp_1,df.molfrac_spin_0_comp_0,'--')\n",
    "plt.plot(df.mu_spin_1_comp_1,df.molfrac_spin_1_comp_0,'--')"
   ]
  },
  {
   "cell_type": "code",
   "execution_count": 17,
   "metadata": {},
   "outputs": [
    {
     "ename": "NameError",
     "evalue": "name 'dfL' is not defined",
     "output_type": "error",
     "traceback": [
      "\u001b[0;31m---------------------------------------------------------------------------\u001b[0m",
      "\u001b[0;31mNameError\u001b[0m                                 Traceback (most recent call last)",
      "\u001b[0;32m<ipython-input-17-2af8488f3244>\u001b[0m in \u001b[0;36m<module>\u001b[0;34m\u001b[0m\n\u001b[0;32m----> 1\u001b[0;31m \u001b[0;32mfor\u001b[0m \u001b[0mk\u001b[0m\u001b[0;34m,\u001b[0m\u001b[0md\u001b[0m \u001b[0;32min\u001b[0m \u001b[0mdfL\u001b[0m\u001b[0;34m.\u001b[0m\u001b[0miteritems\u001b[0m\u001b[0;34m(\u001b[0m\u001b[0;34m)\u001b[0m\u001b[0;34m:\u001b[0m\u001b[0;34m\u001b[0m\u001b[0;34m\u001b[0m\u001b[0m\n\u001b[0m\u001b[1;32m      2\u001b[0m \u001b[0;34m\u001b[0m\u001b[0m\n\u001b[1;32m      3\u001b[0m     \u001b[0ml\u001b[0m\u001b[0;34m,\u001b[0m\u001b[0;34m=\u001b[0m\u001b[0mplt\u001b[0m\u001b[0;34m.\u001b[0m\u001b[0mplot\u001b[0m\u001b[0;34m(\u001b[0m\u001b[0md\u001b[0m\u001b[0;34m.\u001b[0m\u001b[0mmu_bin_0_comp_1\u001b[0m\u001b[0;34m,\u001b[0m\u001b[0md\u001b[0m\u001b[0;34m.\u001b[0m\u001b[0mmolfrac_bin_0_comp_0\u001b[0m\u001b[0;34m,\u001b[0m\u001b[0mlabel\u001b[0m\u001b[0;34m=\u001b[0m\u001b[0mk\u001b[0m\u001b[0;34m)\u001b[0m\u001b[0;34m\u001b[0m\u001b[0;34m\u001b[0m\u001b[0m\n\u001b[1;32m      4\u001b[0m     \u001b[0mc\u001b[0m \u001b[0;34m=\u001b[0m \u001b[0ml\u001b[0m\u001b[0;34m.\u001b[0m\u001b[0mget_color\u001b[0m\u001b[0;34m(\u001b[0m\u001b[0;34m)\u001b[0m\u001b[0;34m\u001b[0m\u001b[0;34m\u001b[0m\u001b[0m\n\u001b[1;32m      5\u001b[0m     \u001b[0mplt\u001b[0m\u001b[0;34m.\u001b[0m\u001b[0mplot\u001b[0m\u001b[0;34m(\u001b[0m\u001b[0md\u001b[0m\u001b[0;34m.\u001b[0m\u001b[0mmu_bin_1_comp_1\u001b[0m\u001b[0;34m,\u001b[0m\u001b[0md\u001b[0m\u001b[0;34m.\u001b[0m\u001b[0mmolfrac_bin_1_comp_0\u001b[0m\u001b[0;34m,\u001b[0m\u001b[0mcolor\u001b[0m\u001b[0;34m=\u001b[0m\u001b[0mc\u001b[0m\u001b[0;34m)\u001b[0m\u001b[0;34m\u001b[0m\u001b[0;34m\u001b[0m\u001b[0m\n",
      "\u001b[0;31mNameError\u001b[0m: name 'dfL' is not defined"
     ]
    }
   ],
   "source": [
    "for k,d in dfL.iteritems():\n",
    "    \n",
    "    l,=plt.plot(d.mu_bin_0_comp_1,d.molfrac_bin_0_comp_0,label=k)\n",
    "    c = l.get_color()\n",
    "    plt.plot(d.mu_bin_1_comp_1,d.molfrac_bin_1_comp_0,color=c)\n",
    "\n",
    "    plt.plot(d.mu_spin_0_comp_1,d.molfrac_spin_0_comp_0,'--',color=c)\n",
    "    plt.plot(d.mu_spin_1_comp_1,d.molfrac_spin_1_comp_0,'--',color=c)\n",
    "\n",
    "plt.gca().legend(loc=0)"
   ]
  },
  {
   "cell_type": "code",
   "execution_count": null,
   "metadata": {},
   "outputs": [],
   "source": [
    "for k,d in dfL.iteritems():\n",
    "    \n",
    "    l,=plt.plot(d.mu_bin_0_comp_1,d.molfrac_bin_0_comp_0,label=k)\n",
    "    c = l.get_color()\n",
    "    plt.plot(d.mu_bin_1_comp_1,d.molfrac_bin_1_comp_0,color=c)\n",
    "\n",
    "    plt.plot(d.mu_spin_0_comp_1,d.molfrac_spin_0_comp_0,'--',color=c)\n",
    "    plt.plot(d.mu_spin_1_comp_1,d.molfrac_spin_1_comp_0,'--',color=c)\n",
    "\n",
    "plt.gca().legend(loc=0)"
   ]
  },
  {
   "cell_type": "code",
   "execution_count": null,
   "metadata": {},
   "outputs": [],
   "source": [
    "for k,d in dfL.iteritems():\n",
    "    \n",
    "    l,=plt.plot(d.mu_bin_0_comp_1,d.molfrac_bin_0_comp_0,label=k)\n",
    "    c = l.get_color()\n",
    "    plt.plot(d.mu_bin_1_comp_1,d.molfrac_bin_1_comp_0,color=c)\n",
    "\n",
    "    plt.plot(d.mu_spin_0_comp_1,d.molfrac_spin_0_comp_0,'--',color=c)\n",
    "    plt.plot(d.mu_spin_1_comp_1,d.molfrac_spin_1_comp_0,'--',color=c)\n",
    "\n",
    "ax = plt.gca()\n",
    "\n",
    "ax.legend(loc=0)\n",
    "ax.set_ylim(-0.05,0.1)\n",
    "ax.axhline(y=0.02)\n",
    "ax.axhline(y=0.04)"
   ]
  },
  {
   "cell_type": "code",
   "execution_count": null,
   "metadata": {},
   "outputs": [],
   "source": [
    "for k,d in dfL.iteritems():\n",
    "    l,=plt.plot(d.mu_bin_0_comp_0,d.mu_bin_0_comp_1,label=k)\n",
    "    plt.plot(d.mu_spin_0_comp_0,d.mu_spin_0_comp_1,'--',color=l.get_color())\n",
    "    plt.plot(d.mu_spin_1_comp_0,d.mu_spin_1_comp_1,'.',color=l.get_color())\n",
    "plt.gca().legend(loc=0)"
   ]
  },
  {
   "cell_type": "code",
   "execution_count": null,
   "metadata": {},
   "outputs": [],
   "source": [
    "for k,d in dfL.iteritems() :\n",
    "    \n",
    "    l,=plt.plot(d.molfrac_bin_0_comp_0,-d.omega_bin_0,label=k)\n",
    "    c=l.get_color()\n",
    "    plt.plot(d.molfrac_bin_1_comp_0,-d.omega_bin_1,color=c) \n",
    "    \n",
    "    plt.plot(d.molfrac_spin_0_comp_0,- d.omega_spin_0,color=c,ls='--')\n",
    "    plt.plot(d.molfrac_spin_1_comp_0,- d.omega_spin_1,color=c,ls='--')\n",
    "    \n",
    "#     l,=plt.plot(d.mu_bin_0_comp_1,d.molfrac_bin_0_comp_0,label=k)\n",
    "#     c = l.get_color()\n",
    "#     plt.plot(d.mu_bin_1_comp_1,d.molfrac_bin_1_comp_0,color=c)\n",
    "\n",
    "#     plt.plot(d.mu_spin_0_comp_1,d.molfrac_spin_0_comp_0,'--',color=c)\n",
    "#     plt.plot(d.mu_spin_1_comp_1,d.molfrac_spin_1_comp_0,'--',color=c)\n",
    "\n",
    "plt.gca().legend(loc=0)"
   ]
  },
  {
   "cell_type": "code",
   "execution_count": null,
   "metadata": {},
   "outputs": [],
   "source": [
    "L[0]"
   ]
  },
  {
   "cell_type": "code",
   "execution_count": null,
   "metadata": {},
   "outputs": [],
   "source": []
  }
 ],
 "metadata": {
  "kernelspec": {
   "display_name": "Python 3",
   "language": "python",
   "name": "python3"
  },
  "language_info": {
   "codemirror_mode": {
    "name": "ipython",
    "version": 3
   },
   "file_extension": ".py",
   "mimetype": "text/x-python",
   "name": "python",
   "nbconvert_exporter": "python",
   "pygments_lexer": "ipython3",
   "version": "3.6.7"
  }
 },
 "nbformat": 4,
 "nbformat_minor": 1
}
