{
 "cells": [
  {
   "cell_type": "code",
   "execution_count": 1,
   "metadata": {
    "collapsed": true
   },
   "outputs": [],
   "source": [
    "%matplotlib inline"
   ]
  },
  {
   "cell_type": "code",
   "execution_count": 2,
   "metadata": {
    "collapsed": true
   },
   "outputs": [],
   "source": [
    "import matplotlib.pyplot as plt\n",
    "import numpy as np\n",
    "import pandas as pd"
   ]
  },
  {
   "cell_type": "code",
   "execution_count": 3,
   "metadata": {
    "collapsed": true
   },
   "outputs": [],
   "source": [
    "#function to tag 'LD' and 'HD' phases\n",
    "def tag_phases(x):\n",
    "    if x.base.num_phases_max !=2:\n",
    "        raise ValueError('bad tag function')\n",
    "        \n",
    "\n",
    "    if x.nphase==1:\n",
    "        if x[0].density<0.5:\n",
    "            return np.array([0])\n",
    "        else:\n",
    "            return np.array([1])\n",
    "    \n",
    "    elif x.nphase==2:\n",
    "        return np.argsort(x.argmax[0])\n",
    "    else:\n",
    "        raise ValueError('bad nphase')\n",
    "    \n",
    "            "
   ]
  },
  {
   "cell_type": "code",
   "execution_count": 4,
   "metadata": {
    "collapsed": false
   },
   "outputs": [],
   "source": [
    "import lnPi"
   ]
  },
  {
   "cell_type": "markdown",
   "metadata": {},
   "source": [
    "# create a reference lnPi_phases for bulk case"
   ]
  },
  {
   "cell_type": "code",
   "execution_count": 93,
   "metadata": {
    "collapsed": false
   },
   "outputs": [],
   "source": [
    "#from data\n",
    "data = np.loadtxt('./PiofN/ljsf.t070.bulk.v729.r1.lnpi.dat')\n",
    "\n",
    "\n",
    "lnpi_bulk = lnPi.lnPi_phases.from_data(data,mu=-8.6160,volume=729.00,beta=1.0/0.7,\n",
    "                                       num_phases_max=2,                                       \n",
    "                                       argmax_kwargs=dict(min_distance=[5,10,20,40]),\n",
    "                                       ftag_phases=tag_phases)\n",
    "\n",
    "\n",
    "# or\n",
    "# lnPi = "
   ]
  },
  {
   "cell_type": "code",
   "execution_count": 94,
   "metadata": {
    "collapsed": false
   },
   "outputs": [
    {
     "data": {
      "text/plain": [
       "array([[   0.        ,  -20.71351647],\n",
       "       [   1.        ,  -19.80847807],\n",
       "       [   2.        ,  -19.57175377],\n",
       "       ..., \n",
       "       [ 658.        ,  -70.2838598 ],\n",
       "       [ 659.        ,  -72.8806118 ],\n",
       "       [ 660.        ,  -75.4992428 ]])"
      ]
     },
     "execution_count": 94,
     "metadata": {},
     "output_type": "execute_result"
    }
   ],
   "source": [
    "data"
   ]
  },
  {
   "cell_type": "code",
   "execution_count": 98,
   "metadata": {
    "collapsed": false
   },
   "outputs": [],
   "source": [
    "#from file\n",
    "lnpi_bulk = lnPi.lnPi_phases.from_file('./PiofN/ljsf.t070.bulk.v729.r1.lnpi.dat',\n",
    "                                       mu=-8.6160,volume=729.00,beta=1.0/0.7,\n",
    "                                       num_phases_max=2,                                       \n",
    "                                       argmax_kwargs=dict(min_distance=[5,10,20,40]),\n",
    "                                       ftag_phases=tag_phases)"
   ]
  },
  {
   "cell_type": "code",
   "execution_count": 108,
   "metadata": {
    "collapsed": false
   },
   "outputs": [
    {
     "data": {
      "text/plain": [
       "array([ -1.80616103e+01,  -1.71565719e+01,  -1.69198476e+01,\n",
       "        -1.70637165e+01,  -1.74704027e+01,  -1.80750106e+01,\n",
       "        -1.88368841e+01,  -1.97280741e+01,  -2.07278385e+01,\n",
       "        -2.18209366e+01,  -2.29936916e+01,  -2.42359998e+01,\n",
       "        -2.55399163e+01,  -2.68979013e+01,  -2.83040303e+01,\n",
       "        -2.97525683e+01,  -3.12407623e+01,  -3.27628343e+01,\n",
       "        -3.43157913e+01,  -3.58968853e+01,  -3.75017173e+01,\n",
       "        -3.91293323e+01,  -4.07755303e+01,  -4.24384293e+01,\n",
       "        -4.41166313e+01,  -4.58071703e+01,  -4.75078503e+01,\n",
       "        -4.92168983e+01,  -5.09325973e+01,  -5.26530243e+01,\n",
       "        -5.43759113e+01,  -5.60996473e+01,  -5.78225723e+01,\n",
       "        -5.95419703e+01,  -6.12555133e+01,  -6.29603213e+01,\n",
       "        -6.46550143e+01,  -6.63370813e+01,  -6.80033343e+01,\n",
       "        -6.96528953e+01,  -7.12826143e+01,  -7.28895493e+01,\n",
       "        -7.44720763e+01,  -7.60303163e+01,  -7.75627583e+01,\n",
       "        -7.90689543e+01,  -8.05505103e+01,  -8.20070803e+01,\n",
       "        -8.34392963e+01,  -8.48492033e+01,  -8.62385083e+01,\n",
       "        -8.76078723e+01,  -8.89587353e+01,  -9.02921693e+01,\n",
       "        -9.16093103e+01,  -9.29113743e+01,  -9.41996063e+01,\n",
       "        -9.54726743e+01,  -9.67333803e+01,  -9.79825763e+01,\n",
       "        -9.92204463e+01,  -1.00446587e+02,  -1.01662076e+02,\n",
       "        -1.02867844e+02,  -1.04062012e+02,  -1.05247551e+02,\n",
       "        -1.06422952e+02,  -1.07589580e+02,  -1.08748227e+02,\n",
       "        -1.09897675e+02,  -1.11038544e+02,  -1.12170828e+02,\n",
       "        -1.13296452e+02,  -1.14414109e+02,  -1.15524546e+02,\n",
       "        -1.16625396e+02,  -1.17718826e+02,  -1.18804026e+02,\n",
       "        -1.19883036e+02,  -1.20954726e+02,  -1.22018586e+02,\n",
       "        -1.23075756e+02,  -1.24126376e+02,  -1.25168786e+02,\n",
       "        -1.26204526e+02,  -1.27231726e+02,  -1.28253496e+02,\n",
       "        -1.29268466e+02,  -1.30275286e+02,  -1.31275086e+02,\n",
       "        -1.32266876e+02,  -1.33251846e+02,  -1.34228486e+02,\n",
       "        -1.35196026e+02,  -1.36154696e+02,  -1.37103756e+02,\n",
       "        -1.38045816e+02,  -1.38977216e+02,  -1.39897806e+02,\n",
       "        -1.40810806e+02,  -1.41710576e+02,  -1.42602486e+02,\n",
       "        -1.43484596e+02,  -1.44355466e+02,  -1.45217016e+02,\n",
       "        -1.46066586e+02,  -1.46907386e+02,  -1.47737746e+02,\n",
       "        -1.48559916e+02,  -1.49371566e+02,  -1.50173186e+02,\n",
       "        -1.50965436e+02,  -1.51749816e+02,  -1.52524166e+02,\n",
       "        -1.53290926e+02,  -1.54051366e+02,  -1.54801066e+02,\n",
       "        -1.55544196e+02,  -1.56280856e+02,  -1.57010706e+02,\n",
       "        -1.57735516e+02,  -1.58453186e+02,  -1.59163946e+02,\n",
       "        -1.59870506e+02,  -1.60571226e+02,  -1.61266676e+02,\n",
       "        -1.61958496e+02,  -1.62643446e+02,  -1.63325256e+02,\n",
       "        -1.63999996e+02,  -1.64671256e+02,  -1.65337726e+02,\n",
       "        -1.66000056e+02,  -1.66658526e+02,  -1.67312556e+02,\n",
       "        -1.67962396e+02,  -1.68607696e+02,  -1.69250916e+02,\n",
       "        -1.69888686e+02,  -1.70523126e+02,  -1.71153816e+02,\n",
       "        -1.71781276e+02,  -1.72405536e+02,  -1.73025106e+02,\n",
       "        -1.73642526e+02,  -1.74256346e+02,  -1.74866246e+02,\n",
       "        -1.75474316e+02,  -1.76077346e+02,  -1.76677666e+02,\n",
       "        -1.77272696e+02,  -1.77865166e+02,  -1.78454226e+02,\n",
       "        -1.79041296e+02,  -1.79625236e+02,  -1.80205776e+02,\n",
       "        -1.80783186e+02,  -1.81356976e+02,  -1.81926786e+02,\n",
       "        -1.82495276e+02,  -1.83059506e+02,  -1.83619136e+02,\n",
       "        -1.84175756e+02,  -1.84728216e+02,  -1.85277976e+02,\n",
       "        -1.85823756e+02,  -1.86365956e+02,  -1.86903666e+02,\n",
       "        -1.87437316e+02,  -1.87965796e+02,  -1.88490916e+02,\n",
       "        -1.89011526e+02,  -1.89526646e+02,  -1.90035036e+02,\n",
       "        -1.90538556e+02,  -1.91037396e+02,  -1.91528716e+02,\n",
       "        -1.92013186e+02,  -1.92491006e+02,  -1.92962086e+02,\n",
       "        -1.93425806e+02,  -1.93883376e+02,  -1.94330836e+02,\n",
       "        -1.94771126e+02,  -1.95202686e+02,  -1.95623336e+02,\n",
       "        -1.96034786e+02,  -1.96435676e+02,  -1.96827156e+02,\n",
       "        -1.97208206e+02,  -1.97578586e+02,  -1.97935396e+02,\n",
       "        -1.98280096e+02,  -1.98614616e+02,  -1.98935356e+02,\n",
       "        -1.99243076e+02,  -1.99539376e+02,  -1.99820976e+02,\n",
       "        -2.00088616e+02,  -2.00342556e+02,  -2.00581746e+02,\n",
       "        -2.00806956e+02,  -2.01018936e+02,  -2.01215906e+02,\n",
       "        -2.01399196e+02,  -2.01568536e+02,  -2.01725166e+02,\n",
       "        -2.01869566e+02,  -2.02003406e+02,  -2.02123866e+02,\n",
       "        -2.02235226e+02,  -2.02337436e+02,  -2.02431976e+02,\n",
       "        -2.02517826e+02,  -2.02596906e+02,  -2.02670416e+02,\n",
       "        -2.02737226e+02,  -2.02799186e+02,  -2.02856526e+02,\n",
       "        -2.02909956e+02,  -2.02959606e+02,  -2.03007626e+02,\n",
       "        -2.03049596e+02,  -2.03089096e+02,  -2.03126096e+02,\n",
       "        -2.03160716e+02,  -2.03193016e+02,  -2.03223306e+02,\n",
       "        -2.03250126e+02,  -2.03276536e+02,  -2.03300686e+02,\n",
       "        -2.03323326e+02,  -2.03342546e+02,  -2.03361396e+02,\n",
       "        -2.03377646e+02,  -2.03390916e+02,  -2.03406686e+02,\n",
       "        -2.03419376e+02,  -2.03428596e+02,  -2.03438716e+02,\n",
       "        -2.03445606e+02,  -2.03453376e+02,  -2.03459926e+02,\n",
       "        -2.03465286e+02,  -2.03468966e+02,  -2.03472906e+02,\n",
       "        -2.03476156e+02,  -2.03476136e+02,  -2.03476566e+02,\n",
       "        -2.03477686e+02,  -2.03476976e+02,  -2.03474776e+02,\n",
       "        -2.03469086e+02,  -2.03464876e+02,  -2.03459986e+02,\n",
       "        -2.03455396e+02,  -2.03447396e+02,  -2.03438016e+02,\n",
       "        -2.03427066e+02,  -2.03417856e+02,  -2.03408316e+02,\n",
       "        -2.03397556e+02,  -2.03385306e+02,  -2.03374636e+02,\n",
       "        -2.03362996e+02,  -2.03350216e+02,  -2.03336156e+02,\n",
       "        -2.03322106e+02,  -2.03309466e+02,  -2.03294126e+02,\n",
       "        -2.03278936e+02,  -2.03263186e+02,  -2.03246706e+02,\n",
       "        -2.03227216e+02,  -2.03210006e+02,  -2.03192656e+02,\n",
       "        -2.03174566e+02,  -2.03155436e+02,  -2.03135746e+02,\n",
       "        -2.03117366e+02,  -2.03098746e+02,  -2.03079746e+02,\n",
       "        -2.03059696e+02,  -2.03039196e+02,  -2.03015865e+02,\n",
       "        -2.02992749e+02,  -2.02971099e+02,  -2.02945700e+02,\n",
       "        -2.02921536e+02,  -2.02900399e+02,  -2.02877784e+02,\n",
       "        -2.02854310e+02,  -2.02830077e+02,  -2.02808486e+02,\n",
       "        -2.02785154e+02,  -2.02762055e+02,  -2.02736901e+02,\n",
       "        -2.02708960e+02,  -2.02683955e+02,  -2.02654195e+02,\n",
       "        -2.02627330e+02,  -2.02597737e+02,  -2.02569718e+02,\n",
       "        -2.02543802e+02,  -2.02518944e+02,  -2.02493390e+02,\n",
       "        -2.02463934e+02,  -2.02436402e+02,  -2.02405858e+02,\n",
       "        -2.02375489e+02,  -2.02346261e+02,  -2.02313823e+02,\n",
       "        -2.02280779e+02,  -2.02249348e+02,  -2.02218536e+02,\n",
       "        -2.02184636e+02,  -2.02148617e+02,  -2.02112922e+02,\n",
       "        -2.02077345e+02,  -2.02037782e+02,  -2.02001657e+02,\n",
       "        -2.01961655e+02,  -2.01923841e+02,  -2.01886426e+02,\n",
       "        -2.01847789e+02,  -2.01807341e+02,  -2.01766489e+02,\n",
       "        -2.01725916e+02,  -2.01686264e+02,  -2.01646326e+02,\n",
       "        -2.01607185e+02,  -2.01565664e+02,  -2.01520306e+02,\n",
       "        -2.01477394e+02,  -2.01429469e+02,  -2.01384672e+02,\n",
       "        -2.01336690e+02,  -2.01285791e+02,  -2.01233593e+02,\n",
       "        -2.01180020e+02,  -2.01124882e+02,  -2.01068655e+02,\n",
       "        -2.01013006e+02,  -2.00955027e+02,  -2.00891081e+02,\n",
       "        -2.00826182e+02,  -2.00758521e+02,  -2.00686951e+02,\n",
       "        -2.00614516e+02,  -2.00534535e+02,  -2.00451158e+02,\n",
       "        -2.00364866e+02,  -2.00270544e+02,  -2.00170540e+02,\n",
       "        -2.00062069e+02,  -1.99943486e+02,  -1.99816249e+02,\n",
       "        -1.99682727e+02,  -1.99536718e+02,  -1.99379165e+02,\n",
       "        -1.99207667e+02,  -1.99024128e+02,  -1.98823869e+02,\n",
       "        -1.98609488e+02,  -1.98378882e+02,  -1.98130666e+02,\n",
       "        -1.97866590e+02,  -1.97586964e+02,  -1.97294748e+02,\n",
       "        -1.96983123e+02,  -1.96658797e+02,  -1.96319035e+02,\n",
       "        -1.95969871e+02,  -1.95605714e+02,  -1.95227640e+02,\n",
       "        -1.94840470e+02,  -1.94442810e+02,  -1.94032342e+02,\n",
       "        -1.93609981e+02,  -1.93178580e+02,  -1.92738186e+02,\n",
       "        -1.92287875e+02,  -1.91830386e+02,  -1.91361976e+02,\n",
       "        -1.90887124e+02,  -1.90403836e+02,  -1.89917012e+02,\n",
       "        -1.89421284e+02,  -1.88921056e+02,  -1.88416580e+02,\n",
       "        -1.87905297e+02,  -1.87390617e+02,  -1.86870684e+02,\n",
       "        -1.86345728e+02,  -1.85813258e+02,  -1.85276315e+02,\n",
       "        -1.84735885e+02,  -1.84191825e+02,  -1.83643288e+02,\n",
       "        -1.83091039e+02,  -1.82536547e+02,  -1.81977836e+02,\n",
       "        -1.81415453e+02,  -1.80849755e+02,  -1.80278731e+02,\n",
       "        -1.79705952e+02,  -1.79130364e+02,  -1.78549426e+02,\n",
       "        -1.77967661e+02,  -1.77379594e+02,  -1.76791269e+02,\n",
       "        -1.76198034e+02,  -1.75602891e+02,  -1.75000162e+02,\n",
       "        -1.74397939e+02,  -1.73787896e+02,  -1.73182727e+02,\n",
       "        -1.72569876e+02,  -1.71952007e+02,  -1.71334756e+02,\n",
       "        -1.70716661e+02,  -1.70088118e+02,  -1.69456425e+02,\n",
       "        -1.68822982e+02,  -1.68184324e+02,  -1.67547636e+02,\n",
       "        -1.66905884e+02,  -1.66255328e+02,  -1.65602845e+02,\n",
       "        -1.64948577e+02,  -1.64292553e+02,  -1.63632383e+02,\n",
       "        -1.62963144e+02,  -1.62293540e+02,  -1.61612078e+02,\n",
       "        -1.60930426e+02,  -1.60237834e+02,  -1.59542220e+02,\n",
       "        -1.58839969e+02,  -1.58131817e+02,  -1.57418478e+02,\n",
       "        -1.56693727e+02,  -1.55963543e+02,  -1.55227479e+02,\n",
       "        -1.54490174e+02,  -1.53735847e+02,  -1.52975410e+02,\n",
       "        -1.52205882e+02,  -1.51429217e+02,  -1.50644071e+02,\n",
       "        -1.49852020e+02,  -1.49048611e+02,  -1.48233463e+02,\n",
       "        -1.47408316e+02,  -1.46572079e+02,  -1.45732142e+02,\n",
       "        -1.44881933e+02,  -1.44026534e+02,  -1.43155830e+02,\n",
       "        -1.42278505e+02,  -1.41382368e+02,  -1.40486615e+02,\n",
       "        -1.39580012e+02,  -1.38667421e+02,  -1.37750084e+02,\n",
       "        -1.36817356e+02,  -1.35875578e+02,  -1.34931137e+02,\n",
       "        -1.33974811e+02,  -1.33012047e+02,  -1.32052859e+02,\n",
       "        -1.31077771e+02,  -1.30096280e+02,  -1.29105433e+02,\n",
       "        -1.28110869e+02,  -1.27110341e+02,  -1.26101064e+02,\n",
       "        -1.25079964e+02,  -1.24051623e+02,  -1.23023829e+02,\n",
       "        -1.21979870e+02,  -1.20932992e+02,  -1.19871629e+02,\n",
       "        -1.18803095e+02,  -1.17728469e+02,  -1.16645381e+02,\n",
       "        -1.15541899e+02,  -1.14424251e+02,  -1.13298458e+02,\n",
       "        -1.12155136e+02,  -1.10997664e+02,  -1.09825541e+02,\n",
       "        -1.08630648e+02,  -1.07412282e+02,  -1.06169088e+02,\n",
       "        -1.04907469e+02,  -1.03624727e+02,  -1.02311761e+02,\n",
       "        -1.00982807e+02,  -9.96280849e+01,  -9.82553999e+01,\n",
       "        -9.68773599e+01,  -9.54793499e+01,  -9.40665099e+01,\n",
       "        -9.26480629e+01,  -9.12091929e+01,  -8.97717869e+01,\n",
       "        -8.83258299e+01,  -8.68799109e+01,  -8.54293209e+01,\n",
       "        -8.39814039e+01,  -8.25321389e+01,  -8.10827699e+01,\n",
       "        -7.96434269e+01,  -7.81850469e+01,  -7.67447639e+01,\n",
       "        -7.52992406e+01,  -7.38581672e+01,  -7.24301240e+01,\n",
       "        -7.09951847e+01,  -6.95649023e+01,  -6.81427180e+01,\n",
       "        -6.67308123e+01,  -6.53271963e+01,  -6.39238563e+01,\n",
       "        -6.25314573e+01,  -6.11475503e+01,  -5.97660323e+01,\n",
       "        -5.83896473e+01,  -5.70280073e+01,  -5.56752273e+01,\n",
       "        -5.43326153e+01,  -5.29909993e+01,  -5.16704993e+01,\n",
       "        -5.03534373e+01,  -4.90463543e+01,  -4.77521183e+01,\n",
       "        -4.64707013e+01,  -4.51874703e+01,  -4.39177073e+01,\n",
       "        -4.26623383e+01,  -4.14172273e+01,  -4.01735777e+01,\n",
       "        -3.89527977e+01,  -3.77410955e+01,  -3.65421562e+01,\n",
       "        -3.53667070e+01,  -3.41990529e+01,  -3.30446781e+01,\n",
       "        -3.19122766e+01,  -3.07821429e+01,  -2.96732529e+01,\n",
       "        -2.85827559e+01,  -2.75019719e+01,  -2.64417589e+01,\n",
       "        -2.53828949e+01,  -2.43406499e+01,  -2.33183479e+01,\n",
       "        -2.23292519e+01,  -2.13407729e+01,  -2.03739309e+01,\n",
       "        -1.94288839e+01,  -1.84933349e+01,  -1.75829349e+01,\n",
       "        -1.66896501e+01,  -1.58145841e+01,  -1.49615734e+01,\n",
       "        -1.41220106e+01,  -1.33127577e+01,  -1.25383860e+01,\n",
       "        -1.17767326e+01,  -1.10316692e+01,  -1.02953799e+01,\n",
       "        -9.59905003e+00,  -8.92018912e+00,  -8.26297979e+00,\n",
       "        -7.62486462e+00,  -7.00442912e+00,  -6.41373992e+00,\n",
       "        -5.83737932e+00,  -5.30830192e+00,  -4.79345702e+00,\n",
       "        -4.28398872e+00,  -3.81492202e+00,  -3.37069092e+00,\n",
       "        -2.94244252e+00,  -2.56248602e+00,  -2.17916342e+00,\n",
       "        -1.84963812e+00,  -1.53135332e+00,  -1.25906172e+00,\n",
       "        -9.96566518e-01,  -7.67654718e-01,  -5.68977218e-01,\n",
       "        -3.86467684e-01,  -2.47778685e-01,  -1.43775784e-01,\n",
       "        -6.72785832e-02,  -2.20394000e-02,   0.00000000e+00,\n",
       "        -3.23522000e-02,  -6.47182000e-02,  -1.47200300e-01,\n",
       "        -2.49252700e-01,  -3.94503900e-01,  -5.59837300e-01,\n",
       "        -7.59544000e-01,  -9.71515800e-01,  -1.25887900e+00,\n",
       "        -1.55595340e+00,  -1.90051650e+00,  -2.29049920e+00,\n",
       "        -2.70942300e+00,  -3.17771930e+00,  -3.67165590e+00,\n",
       "        -4.19721070e+00,  -4.77476763e+00,  -5.37374519e+00,\n",
       "        -5.99119944e+00,  -6.64633281e+00,  -7.36844713e+00,\n",
       "        -8.10711103e+00,  -8.90045023e+00,  -9.72793573e+00,\n",
       "        -1.05921745e+01,  -1.15136071e+01,  -1.24864947e+01,\n",
       "        -1.34955878e+01,  -1.45233178e+01,  -1.55887408e+01,\n",
       "        -1.67279468e+01,  -1.78648178e+01,  -1.90727808e+01,\n",
       "        -2.03338228e+01,  -2.16301518e+01,  -2.29938328e+01,\n",
       "        -2.44220498e+01,  -2.58651144e+01,  -2.73703109e+01,\n",
       "        -2.89182575e+01,  -3.05023956e+01,  -3.21565280e+01,\n",
       "        -3.38443366e+01,  -3.55819726e+01,  -3.73652496e+01,\n",
       "        -3.91879426e+01,  -4.10723526e+01,  -4.29894756e+01,\n",
       "        -4.49812936e+01,  -4.70368466e+01,  -4.90892156e+01,\n",
       "        -5.12386206e+01,  -5.34517546e+01,  -5.56897386e+01,\n",
       "        -5.79822776e+01,  -6.03119536e+01,  -6.26182946e+01,\n",
       "        -6.51131716e+01,  -6.76319536e+01,  -7.02287056e+01,\n",
       "        -7.28473366e+01])"
      ]
     },
     "execution_count": 108,
     "metadata": {},
     "output_type": "execute_result"
    }
   ],
   "source": [
    "val = data[:,1]\n",
    "val"
   ]
  },
  {
   "cell_type": "code",
   "execution_count": 110,
   "metadata": {
    "collapsed": false
   },
   "outputs": [],
   "source": [
    "#another way\n",
    "lnpi_bulk = lnPi.lnPi(data = val,mask=False,num_phases_max=2,mu=-8.6160, volume=729., beta=1./0.7).to_phases(\n",
    "    argmax_kwargs=dict(min_distance=[5,10,20,40]),\n",
    "                                   ftag_phases=tag_phases)"
   ]
  },
  {
   "cell_type": "markdown",
   "metadata": {},
   "source": [
    "## create a collection"
   ]
  },
  {
   "cell_type": "code",
   "execution_count": 41,
   "metadata": {
    "collapsed": false
   },
   "outputs": [],
   "source": [
    "C = lnPi.lnPi_collection.from_mu(lnpi_bulk,[None],np.linspace(-12,-5,20))"
   ]
  },
  {
   "cell_type": "code",
   "execution_count": 42,
   "metadata": {
    "collapsed": false
   },
   "outputs": [],
   "source": [
    "#set spinodal/binodal\n",
    "C.get_spinodals()\n",
    "C.get_binodals()\n",
    "#sort by mu\n",
    "C.sort_by_mu(inplace=True)"
   ]
  },
  {
   "cell_type": "code",
   "execution_count": 43,
   "metadata": {
    "collapsed": true
   },
   "outputs": [],
   "source": [
    "def make_Omega_vs_mu_phase_plot(C,spin=None,bino=None,ax=None,ax_labels=True):\n",
    "    if ax is None:\n",
    "        fig,ax = plt.subplots()\n",
    "        \n",
    "    x = C.mus[:,0]\n",
    "    y = C.Omegas_phaseIDs()\n",
    "\n",
    "    if spin is None:\n",
    "        spin = C.spinodals\n",
    "    s0,s1 = spin\n",
    "    \n",
    "    if bino is None:\n",
    "        bino = C.binodals[0]\n",
    "\n",
    "    l0,=plt.plot(x,y[:,0],label='phase0')\n",
    "    l1,=plt.plot(x,y[:,1],label='phase1')\n",
    "    plt.plot(s0.mu,s0.Omegas_phaseIDs()[0],'o',color=l0.get_color())\n",
    "    plt.plot(s1.mu,s1.Omegas_phaseIDs()[1],'o',color=l1.get_color())\n",
    "    plt.plot(bino.mu,bino.Omegas_phaseIDs()[0],'s',color='k')\n",
    "\n",
    "    if ax_labels:\n",
    "        ax.set_ylabel(r'$\\Omega^{ex}$')\n",
    "        ax.set_xlabel(r'$\\mu$')\n",
    "    "
   ]
  },
  {
   "cell_type": "code",
   "execution_count": 44,
   "metadata": {
    "collapsed": false
   },
   "outputs": [
    {
     "data": {
      "image/png": "[encoded data removed]",
      "text/plain": [
       "<matplotlib.figure.Figure at 0x11b7a78d0>"
      ]
     },
     "metadata": {},
     "output_type": "display_data"
    }
   ],
   "source": [
    "#plot\n",
    "make_Omega_vs_mu_phase_plot(C)"
   ]
  },
  {
   "cell_type": "markdown",
   "metadata": {
    "collapsed": true
   },
   "source": [
    "# bulk 065"
   ]
  },
  {
   "cell_type": "code",
   "execution_count": 45,
   "metadata": {
    "collapsed": true
   },
   "outputs": [],
   "source": [
    "lnpi_bulk = lnPi.lnPi_phases.from_file('./PiofN/ljcut.t065.bulk.v1000.r1.lnpi.dat',mu=-4.453015418106743E+00,\n",
    "                               volume=1000.0E0,num_phases_max=2,beta=1./0.65000E0,ZeroMax=True,fill_value=np.nan,\n",
    "                                      argmax_kwargs=dict(min_distance=[5,10,20,40]),\n",
    "                                ftag_phases=tag_phases)"
   ]
  },
  {
   "cell_type": "code",
   "execution_count": 46,
   "metadata": {
    "collapsed": false
   },
   "outputs": [],
   "source": [
    "Cbulk = lnPi.lnPi_collection.from_mu(lnpi_bulk,[None],np.linspace(-7,.2,50))\n",
    "Cbulk.get_spinodals()\n",
    "Cbulk.get_binodals()\n",
    "\n",
    "Cbulk.sort_by_mu(inplace=True)"
   ]
  },
  {
   "cell_type": "code",
   "execution_count": 40,
   "metadata": {
    "collapsed": false
   },
   "outputs": [],
   "source": [
    "#saturation pressure\n",
    "psat = (-Cbulk.binodals[0].Omegas_phaseIDs()/Cbulk[0].base.volume)[0]"
   ]
  },
  {
   "cell_type": "code",
   "execution_count": 20,
   "metadata": {
    "collapsed": false
   },
   "outputs": [
    {
     "data": {
      "image/png": "[encoded data removed]",
      "text/plain": [
       "<matplotlib.figure.Figure at 0x10ceabf50>"
      ]
     },
     "metadata": {},
     "output_type": "display_data"
    }
   ],
   "source": [
    "make_Omega_vs_mu_phase_plot(Cbulk)"
   ]
  },
  {
   "cell_type": "markdown",
   "metadata": {
    "collapsed": true
   },
   "source": [
    "# confined"
   ]
  },
  {
   "cell_type": "code",
   "execution_count": 21,
   "metadata": {
    "collapsed": true
   },
   "outputs": [],
   "source": [
    "def tag_phases_conf(x):\n",
    "    if x.base.num_phases_max !=2:\n",
    "        raise ValueError('bad tag function')\n",
    "        \n",
    "    L = []\n",
    "    for p in x.phases:\n",
    "        if p.density<0.5:\n",
    "            val = 0\n",
    "        else:\n",
    "            val = 1\n",
    "        L.append(val)\n",
    "        \n",
    "    L = np.array(L)\n",
    "    \n",
    "\n",
    "\n",
    "    return L"
   ]
  },
  {
   "cell_type": "code",
   "execution_count": 22,
   "metadata": {
    "collapsed": true
   },
   "outputs": [],
   "source": [
    "#make up a volume\n",
    "\n",
    "lnpi_conf = lnPi.lnPi_phases.from_file('./PiofN/ljcut.t065.finiteslit.L_20nm.W_4nm.r2.lnpi.dat',\n",
    "                                mu=-0.500000E+01,volume=7000.,beta=1./0.65000E0,\n",
    "                                num_phases_max=2,ZeroMax=True,fill_value=np.nan,\n",
    "                                      argmax_kwargs=dict(min_distance=[5,10,20,40]),ftag_phases=tag_phases_conf,\n",
    "                                build_kwargs=dict(merge_phaseIDs=True))"
   ]
  },
  {
   "cell_type": "code",
   "execution_count": 23,
   "metadata": {
    "collapsed": false
   },
   "outputs": [
    {
     "name": "stderr",
     "output_type": "stream",
     "text": [
      "/opt/anaconda/lib/python2.7/site-packages/numpy/lib/nanfunctions.py:227: RuntimeWarning: All-NaN axis encountered\n",
      "  warnings.warn(\"All-NaN axis encountered\", RuntimeWarning)\n"
     ]
    }
   ],
   "source": [
    "Cconf = lnPi.lnPi_collection.from_mu(lnpi_conf,[None],np.linspace(-5.2,-5.0,50)) #np.linspace(-8,-5,10)\n",
    "Cconf.get_spinodals()\n",
    "Cconf.get_binodals()\n",
    "Cconf.sort_by_mu(inplace=True)"
   ]
  },
  {
   "cell_type": "code",
   "execution_count": 24,
   "metadata": {
    "collapsed": false
   },
   "outputs": [
    {
     "data": {
      "text/plain": [
       "(-5.14, -5.09)"
      ]
     },
     "execution_count": 24,
     "metadata": {},
     "output_type": "execute_result"
    },
    {
     "data": {
      "image/png": "[encoded data removed]",
      "text/plain": [
       "<matplotlib.figure.Figure at 0x10d9af210>"
      ]
     },
     "metadata": {},
     "output_type": "display_data"
    }
   ],
   "source": [
    "make_Omega_vs_mu_phase_plot(Cconf.merge_phases(efac=0.9),Cconf.spinodals,Cconf.binodals[0])\n",
    "\n",
    "\n",
    "ax=plt.gca()\n",
    "ax.set_xlim(-5.14,-5.09)"
   ]
  },
  {
   "cell_type": "code",
   "execution_count": 34,
   "metadata": {
    "collapsed": true
   },
   "outputs": [],
   "source": [
    "df=pd.read_table('./PiofN/ljcut.t065.finiteslit.L_20nm.W_4nm.r2.single_isotherm.txt',sep='\\s+',\n",
    "                 header=None,names=['pscaled','mu','rho','Omega_L','Qst','Gads'])\n"
   ]
  },
  {
   "cell_type": "code",
   "execution_count": 25,
   "metadata": {
    "collapsed": true
   },
   "outputs": [],
   "source": [
    "#make isotherm"
   ]
  },
  {
   "cell_type": "code",
   "execution_count": 31,
   "metadata": {
    "collapsed": true
   },
   "outputs": [],
   "source": [
    "a = np.linspace(-20,Cconf.spinodals[1].mu[0],100)\n",
    "b = np.linspace(Cconf.spinodals[1].mu[0],Cconf.spinodals[0].mu[0],100)\n",
    "c = np.linspace(Cconf.spinodals[0].mu[0],Cbulk.binodals[0].mu[0],100)\n",
    "mus = np.concatenate((a,b,c))"
   ]
  },
  {
   "cell_type": "code",
   "execution_count": 32,
   "metadata": {
    "collapsed": false
   },
   "outputs": [],
   "source": [
    "Cb = lnPi.lnPi_collection.from_mu(lnpi_bulk,[None],x=mus)\n",
    "\n",
    "Cc = lnPi.lnPi_collection.from_mu_iter(lnpi_conf,Cb.mus)"
   ]
  },
  {
   "cell_type": "code",
   "execution_count": 33,
   "metadata": {
    "collapsed": true
   },
   "outputs": [],
   "source": [
    "P = (-Cb.Omegas_phaseIDs()[:,0])/Cb[0].base.volume # + Cb.Naves_phaseIDs[:,0,0]*0.65000)/Cb[0].base.volume\n",
    "\n",
    "#scale pressure\n",
    "P = P/psat\n",
    "#get 'density'\n",
    "rho = Cc.Naves_phaseIDs[:,:,0]"
   ]
  },
  {
   "cell_type": "code",
   "execution_count": 35,
   "metadata": {
    "collapsed": false
   },
   "outputs": [
    {
     "data": {
      "text/plain": [
       "(0, 1.0)"
      ]
     },
     "execution_count": 35,
     "metadata": {},
     "output_type": "execute_result"
    },
    {
     "data": {
      "image/png": "[encoded data removed]",
      "text/plain": [
       "<matplotlib.figure.Figure at 0x10d3fad90>"
      ]
     },
     "metadata": {},
     "output_type": "display_data"
    }
   ],
   "source": [
    "fig,ax = plt.subplots()\n",
    "\n",
    "plt.plot(P,rho[:,0])\n",
    "plt.plot(P,rho[:,1])\n",
    "\n",
    "plt.plot([P[100],P[100]],[rho[100,0],rho[100,1]])\n",
    "plt.plot([P[200],P[200]],[rho[200,0],rho[200,1]])\n",
    "\n",
    "\n",
    "plt.plot(df.pscaled,df.rho,'--')\n",
    "plt.gca().set_xlim(0,1.0)\n",
    "#plt.gca().set_xlim(0.3,0.5)"
   ]
  },
  {
   "cell_type": "code",
   "execution_count": 36,
   "metadata": {
    "collapsed": false
   },
   "outputs": [
    {
     "data": {
      "text/plain": [
       "(0.3, 0.5)"
      ]
     },
     "execution_count": 36,
     "metadata": {},
     "output_type": "execute_result"
    },
    {
     "data": {
      "image/png": "[encoded data removed]",
      "text/plain": [
       "<matplotlib.figure.Figure at 0x10cea0b50>"
      ]
     },
     "metadata": {},
     "output_type": "display_data"
    }
   ],
   "source": [
    "fig,ax = plt.subplots()\n",
    "\n",
    "plt.plot(P,rho[:,0])\n",
    "plt.plot(P,rho[:,1])\n",
    "\n",
    "plt.plot([P[100],P[100]],[rho[100,0],rho[100,1]])\n",
    "plt.plot([P[200],P[200]],[rho[200,0],rho[200,1]])\n",
    "\n",
    "\n",
    "plt.plot(df.pscaled,df.rho,'--')\n",
    "#plt.gca().set_xlim(0,1.0)\n",
    "plt.gca().set_xlim(0.3,0.5)"
   ]
  },
  {
   "cell_type": "code",
   "execution_count": null,
   "metadata": {
    "collapsed": true
   },
   "outputs": [],
   "source": []
  }
 ],
 "metadata": {
  "kernelspec": {
   "display_name": "Python 2",
   "language": "python",
   "name": "python2"
  },
  "language_info": {
   "codemirror_mode": {
    "name": "ipython",
    "version": 2
   },
   "file_extension": ".py",
   "mimetype": "text/x-python",
   "name": "python",
   "nbconvert_exporter": "python",
   "pygments_lexer": "ipython2",
   "version": "2.7.11"
  }
 },
 "nbformat": 4,
 "nbformat_minor": 0
}
