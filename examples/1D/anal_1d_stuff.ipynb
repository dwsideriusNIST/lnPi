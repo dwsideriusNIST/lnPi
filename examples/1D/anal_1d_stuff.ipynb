{
 "cells": [
  {
   "cell_type": "code",
   "execution_count": 132,
   "metadata": {
    "collapsed": true
   },
   "outputs": [],
   "source": [
    "%matplotlib inline"
   ]
  },
  {
   "cell_type": "code",
   "execution_count": 143,
   "metadata": {
    "collapsed": true
   },
   "outputs": [],
   "source": [
    "import matplotlib.pyplot as plt\n",
    "import numpy as np\n",
    "import pandas as pd"
   ]
  },
  {
   "cell_type": "code",
   "execution_count": 144,
   "metadata": {
    "collapsed": true
   },
   "outputs": [],
   "source": [
    "#function to tag 'LD' and 'HD' phases\n",
    "def tag_phases(x):\n",
    "    if x.base.num_phases_max !=2:\n",
    "        raise ValueError('bad tag function')\n",
    "        \n",
    "\n",
    "    if x.nphase==1:\n",
    "        if x[0].density<0.5:\n",
    "            return np.array([0])\n",
    "        else:\n",
    "            return np.array([1])\n",
    "    \n",
    "    elif x.nphase==2:\n",
    "        return np.argsort(x.argmax[0])\n",
    "    else:\n",
    "        raise ValueError('bad nphase')\n",
    "    \n",
    "            "
   ]
  },
  {
   "cell_type": "code",
   "execution_count": 145,
   "metadata": {
    "collapsed": false
   },
   "outputs": [],
   "source": [
    "import lnPi"
   ]
  },
  {
   "cell_type": "code",
   "execution_count": 153,
   "metadata": {
    "collapsed": false
   },
   "outputs": [
    {
     "data": {
      "text/plain": [
       "<module 'lnPi' from '/Users/wpk/Documents/python/lnPi/__init__.py'>"
      ]
     },
     "execution_count": 153,
     "metadata": {},
     "output_type": "execute_result"
    }
   ],
   "source": [
    "reload(lnPi)"
   ]
  },
  {
   "cell_type": "markdown",
   "metadata": {},
   "source": [
    "# create a reference lnPi_phases for bulk case"
   ]
  },
  {
   "cell_type": "code",
   "execution_count": 190,
   "metadata": {
    "collapsed": false
   },
   "outputs": [],
   "source": [
    "#from data\n",
    "data = np.loadtxt('./PiofN/ljsf.t070.bulk.v729.r1.lnpi.dat')\n",
    "\n",
    "\n",
    "lnpi_bulk = lnPi.lnPi_phases.from_data(data,mu=-8.6160,volume=729.00,beta=1.0/0.7,\n",
    "                                       num_phases_max=2,                                       \n",
    "                                       argmax_kwargs=dict(min_distance=[5,10,20,40]),\n",
    "                                       ftag_phases=tag_phases)\n",
    "\n"
   ]
  },
  {
   "cell_type": "code",
   "execution_count": 191,
   "metadata": {
    "collapsed": false
   },
   "outputs": [],
   "source": [
    "#from file\n",
    "lnpi_bulk = lnPi.lnPi_phases.from_file('./PiofN/ljsf.t070.bulk.v729.r1.lnpi.dat',\n",
    "                                       mu=-8.6160,volume=729.00,beta=1.0/0.7,\n",
    "                                       num_phases_max=2,                                       \n",
    "                                       argmax_kwargs=dict(min_distance=[5,10,20,40]),\n",
    "                                       ftag_phases=tag_phases)"
   ]
  },
  {
   "cell_type": "code",
   "execution_count": 192,
   "metadata": {
    "collapsed": false
   },
   "outputs": [],
   "source": [
    "#from matrix 1\n",
    "val = data[:,-1]\n",
    "lnpi_bulk = lnPi.lnPi(data = val,mask=False,num_phases_max=2,mu=-8.6160, volume=729., beta=1./0.7).to_phases(\n",
    "    argmax_kwargs=dict(min_distance=[5,10,20,40]),\n",
    "                                   ftag_phases=tag_phases)"
   ]
  },
  {
   "cell_type": "code",
   "execution_count": null,
   "metadata": {
    "collapsed": true
   },
   "outputs": [],
   "source": [
    "#from matrix 2 (better)\n",
    "Z = np.loadtxt('./PiofN/ljsf.t070.bulk.v729.r1.lnpi.dat')[:,-1]\n",
    "#Z is the  'matrix' of lnPis, 1D in this case"
   ]
  },
  {
   "cell_type": "code",
   "execution_count": 213,
   "metadata": {
    "collapsed": false
   },
   "outputs": [
    {
     "name": "stdout",
     "output_type": "stream",
     "text": [
      "[-18.0616103 -17.1565719 -16.9198476 -17.0637165 -17.4704027 -18.0750106\n",
      " -18.8368841 -19.7280741 -20.7278385 -21.8209366 -22.9936916 -24.2359998\n",
      " -25.5399163 -26.8979013 -28.3040303 -29.7525683 -31.2407623 -32.7628343\n",
      " -34.3157913 -35.8968853]\n"
     ]
    }
   ],
   "source": [
    "print Z[:20]"
   ]
  },
  {
   "cell_type": "code",
   "execution_count": 214,
   "metadata": {
    "collapsed": false
   },
   "outputs": [],
   "source": [
    "lnpi_bulk = lnPi.lnPi_phases.from_matrix(Z,mu=-8.6160,volume=729.00,beta=1.0/0.7,\n",
    "                                       num_phases_max=2,                                       \n",
    "                                       argmax_kwargs=dict(min_distance=[5,10,20,40]),\n",
    "                                       ftag_phases=tag_phases)"
   ]
  },
  {
   "cell_type": "markdown",
   "metadata": {},
   "source": [
    "## create a collection"
   ]
  },
  {
   "cell_type": "code",
   "execution_count": 194,
   "metadata": {
    "collapsed": false
   },
   "outputs": [],
   "source": [
    "#collection of lnpis\n",
    "C = lnPi.lnPi_collection.from_mu(lnpi_bulk,[None],np.linspace(-12,-5,20))"
   ]
  },
  {
   "cell_type": "code",
   "execution_count": 195,
   "metadata": {
    "collapsed": false
   },
   "outputs": [],
   "source": [
    "#set spinodal/binodal\n",
    "C.get_spinodals()\n",
    "C.get_binodals()\n",
    "#sort by mu\n",
    "C.sort_by_mu(inplace=True)"
   ]
  },
  {
   "cell_type": "code",
   "execution_count": 209,
   "metadata": {
    "collapsed": false
   },
   "outputs": [
    {
     "name": "stdout",
     "output_type": "stream",
     "text": [
      "lnPi_phases: nphase=2, mu=[-7.46824698]\n",
      "lnPi_phases: nphase=2, mu=[-9.58832717]\n",
      "lnPi_phases: nphase=2, mu=[-8.63733388]\n"
     ]
    }
   ],
   "source": [
    "print C.spinodals[0]._repr_html_()\n",
    "print C.spinodals[1]._repr_html_()\n",
    "print C.binodals[0]._repr_html_()"
   ]
  },
  {
   "cell_type": "code",
   "execution_count": 196,
   "metadata": {
    "collapsed": true
   },
   "outputs": [],
   "source": [
    "def make_Omega_vs_mu_phase_plot(C,spin=None,bino=None,ax=None,ax_labels=True):\n",
    "    if ax is None:\n",
    "        fig,ax = plt.subplots()\n",
    "        \n",
    "    x = C.mus[:,0]\n",
    "    y = C.Omegas_phaseIDs()\n",
    "\n",
    "    if spin is None:\n",
    "        spin = C.spinodals\n",
    "    s0,s1 = spin\n",
    "    \n",
    "    if bino is None:\n",
    "        bino = C.binodals[0]\n",
    "\n",
    "    l0,=plt.plot(x,y[:,0],label='phase0')\n",
    "    l1,=plt.plot(x,y[:,1],label='phase1')\n",
    "    plt.plot(s0.mu,s0.Omegas_phaseIDs()[0],'o',color=l0.get_color())\n",
    "    plt.plot(s1.mu,s1.Omegas_phaseIDs()[1],'o',color=l1.get_color())\n",
    "    plt.plot(bino.mu,bino.Omegas_phaseIDs()[0],'s',color='k')\n",
    "\n",
    "    if ax_labels:\n",
    "        ax.set_ylabel(r'$\\Omega^{ex}$')\n",
    "        ax.set_xlabel(r'$\\mu$')\n",
    "    "
   ]
  },
  {
   "cell_type": "code",
   "execution_count": 197,
   "metadata": {
    "collapsed": false
   },
   "outputs": [
    {
     "data": {
      "image/png": "[encoded data removed]",
      "text/plain": [
       "<matplotlib.figure.Figure at 0x11b748d10>"
      ]
     },
     "metadata": {},
     "output_type": "display_data"
    }
   ],
   "source": [
    "#plot\n",
    "make_Omega_vs_mu_phase_plot(C)"
   ]
  },
  {
   "cell_type": "markdown",
   "metadata": {
    "collapsed": true
   },
   "source": [
    "# bulk 065"
   ]
  },
  {
   "cell_type": "code",
   "execution_count": 124,
   "metadata": {
    "collapsed": true
   },
   "outputs": [],
   "source": [
    "lnpi_bulk = lnPi.lnPi_phases.from_file('./PiofN/ljcut.t065.bulk.v1000.r1.lnpi.dat',mu=-4.453015418106743E+00,\n",
    "                               volume=1000.0E0,num_phases_max=2,beta=1./0.65000E0,ZeroMax=True,fill_value=np.nan,\n",
    "                                      argmax_kwargs=dict(min_distance=[5,10,20,40]),\n",
    "                                ftag_phases=tag_phases)"
   ]
  },
  {
   "cell_type": "code",
   "execution_count": 125,
   "metadata": {
    "collapsed": false
   },
   "outputs": [],
   "source": [
    "Cbulk = lnPi.lnPi_collection.from_mu(lnpi_bulk,[None],np.linspace(-7,.2,50))\n",
    "Cbulk.get_spinodals()\n",
    "Cbulk.get_binodals()\n",
    "\n",
    "Cbulk.sort_by_mu(inplace=True)"
   ]
  },
  {
   "cell_type": "code",
   "execution_count": 126,
   "metadata": {
    "collapsed": false
   },
   "outputs": [],
   "source": [
    "#saturation pressure\n",
    "psat = (-Cbulk.binodals[0].Omegas_phaseIDs()/Cbulk[0].base.volume)[0]"
   ]
  },
  {
   "cell_type": "code",
   "execution_count": 127,
   "metadata": {
    "collapsed": false
   },
   "outputs": [
    {
     "data": {
      "image/png": "[encoded data removed]",
      "text/plain": [
       "<matplotlib.figure.Figure at 0x11ba84790>"
      ]
     },
     "metadata": {},
     "output_type": "display_data"
    }
   ],
   "source": [
    "make_Omega_vs_mu_phase_plot(Cbulk)"
   ]
  },
  {
   "cell_type": "markdown",
   "metadata": {
    "collapsed": true
   },
   "source": [
    "# confined"
   ]
  },
  {
   "cell_type": "code",
   "execution_count": 128,
   "metadata": {
    "collapsed": true
   },
   "outputs": [],
   "source": [
    "def tag_phases_conf(x):\n",
    "    if x.base.num_phases_max !=2:\n",
    "        raise ValueError('bad tag function')\n",
    "        \n",
    "    L = []\n",
    "    for p in x.phases:\n",
    "        if p.density<0.5:\n",
    "            val = 0\n",
    "        else:\n",
    "            val = 1\n",
    "        L.append(val)\n",
    "        \n",
    "    L = np.array(L)\n",
    "    \n",
    "\n",
    "\n",
    "    return L"
   ]
  },
  {
   "cell_type": "code",
   "execution_count": 129,
   "metadata": {
    "collapsed": true
   },
   "outputs": [],
   "source": [
    "#make up a volume\n",
    "\n",
    "lnpi_conf = lnPi.lnPi_phases.from_file('./PiofN/ljcut.t065.finiteslit.L_20nm.W_4nm.r2.lnpi.dat',\n",
    "                                mu=-0.500000E+01,volume=7000.,beta=1./0.65000E0,\n",
    "                                num_phases_max=2,ZeroMax=True,fill_value=np.nan,\n",
    "                                      argmax_kwargs=dict(min_distance=[5,10,20,40]),ftag_phases=tag_phases_conf,\n",
    "                                build_kwargs=dict(merge_phaseIDs=True))"
   ]
  },
  {
   "cell_type": "code",
   "execution_count": 130,
   "metadata": {
    "collapsed": false
   },
   "outputs": [
    {
     "name": "stderr",
     "output_type": "stream",
     "text": [
      "/opt/anaconda/lib/python2.7/site-packages/numpy/lib/nanfunctions.py:227: RuntimeWarning: All-NaN axis encountered\n",
      "  warnings.warn(\"All-NaN axis encountered\", RuntimeWarning)\n"
     ]
    }
   ],
   "source": [
    "Cconf = lnPi.lnPi_collection.from_mu(lnpi_conf,[None],np.linspace(-5.2,-5.0,50)) #np.linspace(-8,-5,10)\n",
    "Cconf.get_spinodals()\n",
    "Cconf.get_binodals()\n",
    "Cconf.sort_by_mu(inplace=True)"
   ]
  },
  {
   "cell_type": "code",
   "execution_count": 131,
   "metadata": {
    "collapsed": false
   },
   "outputs": [
    {
     "data": {
      "text/plain": [
       "(-5.14, -5.09)"
      ]
     },
     "execution_count": 131,
     "metadata": {},
     "output_type": "execute_result"
    },
    {
     "data": {
      "image/png": "[encoded data removed]",
      "text/plain": [
       "<matplotlib.figure.Figure at 0x11ba99510>"
      ]
     },
     "metadata": {},
     "output_type": "display_data"
    }
   ],
   "source": [
    "make_Omega_vs_mu_phase_plot(Cconf.merge_phases(efac=0.9),Cconf.spinodals,Cconf.binodals[0])\n",
    "\n",
    "\n",
    "ax=plt.gca()\n",
    "ax.set_xlim(-5.14,-5.09)"
   ]
  },
  {
   "cell_type": "code",
   "execution_count": 34,
   "metadata": {
    "collapsed": true
   },
   "outputs": [],
   "source": [
    "df=pd.read_table('./PiofN/ljcut.t065.finiteslit.L_20nm.W_4nm.r2.single_isotherm.txt',sep='\\s+',\n",
    "                 header=None,names=['pscaled','mu','rho','Omega_L','Qst','Gads'])\n"
   ]
  },
  {
   "cell_type": "code",
   "execution_count": 25,
   "metadata": {
    "collapsed": true
   },
   "outputs": [],
   "source": [
    "#make isotherm"
   ]
  },
  {
   "cell_type": "code",
   "execution_count": 31,
   "metadata": {
    "collapsed": true
   },
   "outputs": [],
   "source": [
    "a = np.linspace(-20,Cconf.spinodals[1].mu[0],100)\n",
    "b = np.linspace(Cconf.spinodals[1].mu[0],Cconf.spinodals[0].mu[0],100)\n",
    "c = np.linspace(Cconf.spinodals[0].mu[0],Cbulk.binodals[0].mu[0],100)\n",
    "mus = np.concatenate((a,b,c))"
   ]
  },
  {
   "cell_type": "code",
   "execution_count": 32,
   "metadata": {
    "collapsed": false
   },
   "outputs": [],
   "source": [
    "Cb = lnPi.lnPi_collection.from_mu(lnpi_bulk,[None],x=mus)\n",
    "\n",
    "Cc = lnPi.lnPi_collection.from_mu_iter(lnpi_conf,Cb.mus)"
   ]
  },
  {
   "cell_type": "code",
   "execution_count": 33,
   "metadata": {
    "collapsed": true
   },
   "outputs": [],
   "source": [
    "P = (-Cb.Omegas_phaseIDs()[:,0])/Cb[0].base.volume # + Cb.Naves_phaseIDs[:,0,0]*0.65000)/Cb[0].base.volume\n",
    "\n",
    "#scale pressure\n",
    "P = P/psat\n",
    "#get 'density'\n",
    "rho = Cc.Naves_phaseIDs[:,:,0]"
   ]
  },
  {
   "cell_type": "code",
   "execution_count": 35,
   "metadata": {
    "collapsed": false
   },
   "outputs": [
    {
     "data": {
      "text/plain": [
       "(0, 1.0)"
      ]
     },
     "execution_count": 35,
     "metadata": {},
     "output_type": "execute_result"
    },
    {
     "data": {
      "image/png": "[encoded data removed]",
      "text/plain": [
       "<matplotlib.figure.Figure at 0x10d3fad90>"
      ]
     },
     "metadata": {},
     "output_type": "display_data"
    }
   ],
   "source": [
    "fig,ax = plt.subplots()\n",
    "\n",
    "plt.plot(P,rho[:,0])\n",
    "plt.plot(P,rho[:,1])\n",
    "\n",
    "plt.plot([P[100],P[100]],[rho[100,0],rho[100,1]])\n",
    "plt.plot([P[200],P[200]],[rho[200,0],rho[200,1]])\n",
    "\n",
    "\n",
    "plt.plot(df.pscaled,df.rho,'--')\n",
    "plt.gca().set_xlim(0,1.0)\n",
    "#plt.gca().set_xlim(0.3,0.5)"
   ]
  },
  {
   "cell_type": "code",
   "execution_count": 36,
   "metadata": {
    "collapsed": false
   },
   "outputs": [
    {
     "data": {
      "text/plain": [
       "(0.3, 0.5)"
      ]
     },
     "execution_count": 36,
     "metadata": {},
     "output_type": "execute_result"
    },
    {
     "data": {
      "image/png": "[encoded data removed]",
      "text/plain": [
       "<matplotlib.figure.Figure at 0x10cea0b50>"
      ]
     },
     "metadata": {},
     "output_type": "display_data"
    }
   ],
   "source": [
    "fig,ax = plt.subplots()\n",
    "\n",
    "plt.plot(P,rho[:,0])\n",
    "plt.plot(P,rho[:,1])\n",
    "\n",
    "plt.plot([P[100],P[100]],[rho[100,0],rho[100,1]])\n",
    "plt.plot([P[200],P[200]],[rho[200,0],rho[200,1]])\n",
    "\n",
    "\n",
    "plt.plot(df.pscaled,df.rho,'--')\n",
    "#plt.gca().set_xlim(0,1.0)\n",
    "plt.gca().set_xlim(0.3,0.5)"
   ]
  },
  {
   "cell_type": "code",
   "execution_count": null,
   "metadata": {
    "collapsed": true
   },
   "outputs": [],
   "source": []
  }
 ],
 "metadata": {
  "kernelspec": {
   "display_name": "Python 2",
   "language": "python",
   "name": "python2"
  },
  "language_info": {
   "codemirror_mode": {
    "name": "ipython",
    "version": 2
   },
   "file_extension": ".py",
   "mimetype": "text/x-python",
   "name": "python",
   "nbconvert_exporter": "python",
   "pygments_lexer": "ipython2",
   "version": "2.7.11"
  }
 },
 "nbformat": 4,
 "nbformat_minor": 0
}
